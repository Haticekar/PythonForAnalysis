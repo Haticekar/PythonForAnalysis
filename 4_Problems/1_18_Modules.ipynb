{
  "cells": [
    {
      "cell_type": "markdown",
      "id": "54c69af0",
      "metadata": {
        "id": "54c69af0"
      },
      "source": [
        "<a target=\"_blank\" href=\"https://colab.research.google.com/github/lukebarousse/Python_Data_Analytics_Course/blob/main/4_Problems/1_18_Modules.ipynb\">\n",
        "  <img src=\"https://colab.research.google.com/assets/colab-badge.svg\" alt=\"Open In Colab\"/>\n",
        "</a>"
      ]
    },
    {
      "cell_type": "markdown",
      "id": "6275a2c8",
      "metadata": {
        "id": "6275a2c8"
      },
      "source": [
        "## 🟩 Calculate Annual Salary (1.18.1)"
      ]
    },
    {
      "cell_type": "code",
      "execution_count": 1,
      "id": "61852e86",
      "metadata": {
        "id": "61852e86",
        "outputId": "a1b8c674-3127-401b-c191-3186a96eace5",
        "colab": {
          "base_uri": "https://localhost:8080/"
        }
      },
      "outputs": [
        {
          "output_type": "execute_result",
          "data": {
            "text/plain": [
              "104000"
            ]
          },
          "metadata": {},
          "execution_count": 1
        }
      ],
      "source": [
        "# cell magic command to write the contents of this cell to a file called salary_calculator.py\n",
        "import salary_calculator\n",
        "annual_salary = salary_calculator.calculate_annual_salary(50,40)\n",
        "annual_salary\n"
      ]
    },
    {
      "cell_type": "markdown",
      "id": "ad5f9e59",
      "metadata": {
        "id": "ad5f9e59"
      },
      "source": [
        "## 🟨 Filter Job Postings by Location (1.18.2)"
      ]
    },
    {
      "cell_type": "code",
      "execution_count": 2,
      "id": "2b9e6953",
      "metadata": {
        "id": "2b9e6953",
        "outputId": "7d358b7f-6c2d-4bd2-b7f9-651a2ea2136e",
        "colab": {
          "base_uri": "https://localhost:8080/"
        }
      },
      "outputs": [
        {
          "output_type": "stream",
          "name": "stdout",
          "text": [
            "[{'title': 'Data Scientist', 'location': 'New York'}, {'title': 'Machine Learning Engineer', 'location': 'New York'}]\n"
          ]
        }
      ],
      "source": [
        "import job_filter\n",
        "# Code Needed\n",
        "job_postings = [\n",
        "    {'title': 'Data Scientist', 'location': 'New York'},\n",
        "    {'title': 'Data Analyst', 'location': 'San Francisco'},\n",
        "    {'title': 'Machine Learning Engineer', 'location': 'New York'}\n",
        "]\n",
        "\n",
        "\n",
        "filtered_jobs = job_filter.filter_by_location(job_postings, 'New York')\n",
        "print(filtered_jobs)"
      ]
    },
    {
      "cell_type": "markdown",
      "id": "e1861164",
      "metadata": {
        "id": "e1861164"
      },
      "source": [
        "---"
      ]
    }
  ],
  "metadata": {
    "language_info": {
      "name": "python"
    },
    "colab": {
      "provenance": []
    },
    "kernelspec": {
      "name": "python3",
      "display_name": "Python 3"
    }
  },
  "nbformat": 4,
  "nbformat_minor": 5
}