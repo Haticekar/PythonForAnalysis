{
  "cells": [
    {
      "cell_type": "markdown",
      "id": "707277df",
      "metadata": {
        "id": "707277df"
      },
      "source": [
        "<a target=\"_blank\" href=\"https://colab.research.google.com/github/lukebarousse/Python_Data_Analytics_Course/blob/main/4_Problems/1_05_String Formatting.ipynb\">\n",
        "  <img src=\"https://colab.research.google.com/assets/colab-badge.svg\" alt=\"Open In Colab\"/>\n",
        "</a>"
      ]
    },
    {
      "cell_type": "markdown",
      "id": "33249ddd",
      "metadata": {
        "id": "33249ddd"
      },
      "source": [
        "## 🟩 Concatenate Strings (1.5.1)"
      ]
    },
    {
      "cell_type": "code",
      "execution_count": 2,
      "id": "f5eb44b1",
      "metadata": {
        "id": "f5eb44b1",
        "outputId": "b7458449-ef7e-45e8-b6b9-0bd2fe6c5f33",
        "colab": {
          "base_uri": "https://localhost:8080/"
        }
      },
      "outputs": [
        {
          "output_type": "stream",
          "name": "stdout",
          "text": [
            "Job Title: Data Scientist\n"
          ]
        }
      ],
      "source": [
        "# Code Needed\n",
        "job_title = 'Data Scientist'\n",
        "f\"Job Title : {job_title}\"\n",
        "\n",
        "#Below the different way\n",
        "result = \"Job Title: \" + job_title\n",
        "print(result)"
      ]
    },
    {
      "cell_type": "markdown",
      "id": "ceadadd2",
      "metadata": {
        "id": "ceadadd2"
      },
      "source": [
        "---"
      ]
    },
    {
      "cell_type": "markdown",
      "id": "4b752a3b",
      "metadata": {
        "id": "4b752a3b"
      },
      "source": [
        "## 🟩 Format with f-strings (1.5.2)"
      ]
    },
    {
      "cell_type": "code",
      "execution_count": 5,
      "id": "f1dd6630",
      "metadata": {
        "id": "f1dd6630",
        "outputId": "bbb7fb5e-fa09-4997-ed0b-6bca4d936cc3",
        "colab": {
          "base_uri": "https://localhost:8080/",
          "height": 35
        }
      },
      "outputs": [
        {
          "output_type": "execute_result",
          "data": {
            "text/plain": [
              "'Data Scientist at DataWiz Inc.'"
            ],
            "application/vnd.google.colaboratory.intrinsic+json": {
              "type": "string"
            }
          },
          "metadata": {},
          "execution_count": 5
        }
      ],
      "source": [
        "# Code Needed\n",
        "position = 'Data Scientist'\n",
        "company = 'DataWiz Inc.'\n",
        "\n",
        "f\"{position} at {company}\""
      ]
    },
    {
      "cell_type": "markdown",
      "id": "f3b9b437",
      "metadata": {
        "id": "f3b9b437"
      },
      "source": [
        "---"
      ]
    },
    {
      "cell_type": "markdown",
      "id": "7ccbfb33",
      "metadata": {
        "id": "7ccbfb33"
      },
      "source": [
        "## 🟩 Format with str.format() (1.5.3)"
      ]
    },
    {
      "cell_type": "code",
      "execution_count": 8,
      "id": "3ad6287a",
      "metadata": {
        "id": "3ad6287a",
        "outputId": "320b9028-e6cf-4549-bdf6-5b6e6d666fcb",
        "colab": {
          "base_uri": "https://localhost:8080/",
          "height": 35
        }
      },
      "outputs": [
        {
          "output_type": "execute_result",
          "data": {
            "text/plain": [
              "'Role: Data Analyst, Skill: Python'"
            ],
            "application/vnd.google.colaboratory.intrinsic+json": {
              "type": "string"
            }
          },
          "metadata": {},
          "execution_count": 8
        }
      ],
      "source": [
        "# Code Needed\n",
        "role = 'Data Analyst'\n",
        "skill = 'Python'\n",
        "\"Role: {}, Skill: {}\".format(role,skill) #str.format method"
      ]
    },
    {
      "cell_type": "markdown",
      "id": "553e97a6",
      "metadata": {
        "id": "553e97a6"
      },
      "source": [
        "---"
      ]
    },
    {
      "cell_type": "markdown",
      "id": "2539859a",
      "metadata": {
        "id": "2539859a"
      },
      "source": [
        "## 🟨 Format with %-formatting (1.5.4)"
      ]
    },
    {
      "cell_type": "code",
      "execution_count": 9,
      "id": "88cfb9fa",
      "metadata": {
        "id": "88cfb9fa",
        "outputId": "f7771e46-bc4d-4cad-db76-79fd5b5db7e5",
        "colab": {
          "base_uri": "https://localhost:8080/",
          "height": 35
        }
      },
      "outputs": [
        {
          "output_type": "execute_result",
          "data": {
            "text/plain": [
              "'Role: Data Engineer, Skill: SQL'"
            ],
            "application/vnd.google.colaboratory.intrinsic+json": {
              "type": "string"
            }
          },
          "metadata": {},
          "execution_count": 9
        }
      ],
      "source": [
        "# Code Needed\n",
        "role = 'Data Engineer'\n",
        "skill = 'SQL'\n",
        "\"Role: %s, Skill: %s\" %(role,skill)\n"
      ]
    },
    {
      "cell_type": "markdown",
      "id": "d6081ce3",
      "metadata": {
        "id": "d6081ce3"
      },
      "source": [
        "---"
      ]
    }
  ],
  "metadata": {
    "colab": {
      "provenance": []
    },
    "language_info": {
      "name": "python"
    },
    "kernelspec": {
      "name": "python3",
      "display_name": "Python 3"
    }
  },
  "nbformat": 4,
  "nbformat_minor": 5
}