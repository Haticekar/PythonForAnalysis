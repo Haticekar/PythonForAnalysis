{
  "cells": [
    {
      "cell_type": "markdown",
      "id": "fb3e5a5f",
      "metadata": {
        "id": "fb3e5a5f"
      },
      "source": [
        "<a target=\"_blank\" href=\"https://colab.research.google.com/github/lukebarousse/Python_Data_Analytics_Course/blob/main/4_Problems/1_17_Lambda.ipynb\">\n",
        "  <img src=\"https://colab.research.google.com/assets/colab-badge.svg\" alt=\"Open In Colab\"/>\n",
        "</a>"
      ]
    },
    {
      "cell_type": "markdown",
      "id": "d1f5cdd2",
      "metadata": {
        "id": "d1f5cdd2"
      },
      "source": [
        "## 🟩 Calculate Average Salary (1.17.1)"
      ]
    },
    {
      "cell_type": "code",
      "execution_count": 3,
      "id": "d1091543",
      "metadata": {
        "id": "d1091543",
        "outputId": "0bdcedc4-de06-41c7-c01a-2177e0ff7e41",
        "colab": {
          "base_uri": "https://localhost:8080/"
        }
      },
      "outputs": [
        {
          "output_type": "stream",
          "name": "stdout",
          "text": [
            "108000.0\n",
            "****\n"
          ]
        },
        {
          "output_type": "execute_result",
          "data": {
            "text/plain": [
              "108000.0"
            ]
          },
          "metadata": {},
          "execution_count": 3
        }
      ],
      "source": [
        "# Code Needed\n",
        "salaries = [95000, 120000, 105000, 90000, 130000]\n",
        "print((lambda x: sum(x)/len(x))(salaries))\n",
        "\n",
        "print(\"****\")\n",
        "average_salary = lambda salary_list: sum(salary_list) / len(salary_list)\n",
        "average = average_salary(salaries)\n",
        "average"
      ]
    },
    {
      "cell_type": "markdown",
      "id": "045da046",
      "metadata": {
        "id": "045da046"
      },
      "source": [
        "---"
      ]
    },
    {
      "cell_type": "markdown",
      "id": "5f3ad67e",
      "metadata": {
        "id": "5f3ad67e"
      },
      "source": [
        "## 🟨 Filter Job Titles (1.17.2)"
      ]
    },
    {
      "cell_type": "code",
      "execution_count": 8,
      "id": "cf09815a",
      "metadata": {
        "id": "cf09815a",
        "outputId": "be3906ab-d71e-4b2e-f7eb-06993fe7ae2b",
        "colab": {
          "base_uri": "https://localhost:8080/"
        }
      },
      "outputs": [
        {
          "output_type": "stream",
          "name": "stdout",
          "text": [
            "['Data Scientist', 'Data Engineer', 'Data Analyst']\n",
            "****\n"
          ]
        },
        {
          "output_type": "execute_result",
          "data": {
            "text/plain": [
              "['Data Scientist', 'Data Engineer', 'Data Analyst']"
            ]
          },
          "metadata": {},
          "execution_count": 8
        }
      ],
      "source": [
        "# Code Needed\n",
        "job_titles = ['Data Scientist', 'Data Engineer', 'Machine Learning Engineer', 'Data Analyst']\n",
        "print(list(filter(lambda x: 'Data' in x, job_titles)))\n",
        "\n",
        "print(\"****\")\n",
        "contains_data = lambda title: 'Data' in title\n",
        "filtered_titles = list(filter(contains_data, job_titles))\n",
        "filtered_titles\n"
      ]
    },
    {
      "cell_type": "markdown",
      "id": "e43299da",
      "metadata": {
        "id": "e43299da"
      },
      "source": [
        "---"
      ]
    },
    {
      "cell_type": "markdown",
      "id": "f0ba4566",
      "metadata": {
        "id": "f0ba4566"
      },
      "source": [
        "## 🟥 Filter Remote Python Jobs (1.17.3)"
      ]
    },
    {
      "cell_type": "code",
      "execution_count": 10,
      "id": "3c4339b8",
      "metadata": {
        "id": "3c4339b8",
        "outputId": "8a30efb1-bb86-4314-9dc1-9f9e380ca91c",
        "colab": {
          "base_uri": "https://localhost:8080/"
        }
      },
      "outputs": [
        {
          "output_type": "stream",
          "name": "stdout",
          "text": [
            "[{'title': 'Data Scientist', 'skills': ['Python', 'SQL'], 'remote': True}, {'title': 'Machine Learning Engineer', 'skills': ['Python', 'TensorFlow'], 'remote': True}]\n",
            "****\n"
          ]
        },
        {
          "output_type": "execute_result",
          "data": {
            "text/plain": [
              "[{'title': 'Data Scientist', 'skills': ['Python', 'SQL'], 'remote': True},\n",
              " {'title': 'Machine Learning Engineer',\n",
              "  'skills': ['Python', 'TensorFlow'],\n",
              "  'remote': True}]"
            ]
          },
          "metadata": {},
          "execution_count": 10
        }
      ],
      "source": [
        "# Code Needed\n",
        "job_postings = [\n",
        "    {'title': 'Data Scientist', 'skills': ['Python', 'SQL'], 'remote': True},\n",
        "    {'title': 'Data Analyst', 'skills': ['Excel', 'SQL'], 'remote': False},\n",
        "    {'title': 'Machine Learning Engineer', 'skills': ['Python', 'TensorFlow'], 'remote': True},\n",
        "    {'title': 'Software Developer', 'skills': ['Java', 'C++'], 'remote': True}\n",
        "]\n",
        "\n",
        "print(list(filter(lambda job : job[\"remote\"] and \"Python\" in job[\"skills\"], job_postings)))\n",
        "\n",
        "print(\"****\")\n",
        "\n",
        "filter_postings = lambda posting: 'Python' in posting['skills'] and posting['remote']\n",
        "remote_python_postings = list(filter(filter_postings, job_postings))\n",
        "remote_python_postings"
      ]
    },
    {
      "cell_type": "markdown",
      "id": "96baab4a",
      "metadata": {
        "id": "96baab4a"
      },
      "source": [
        "---"
      ]
    }
  ],
  "metadata": {
    "colab": {
      "provenance": []
    },
    "language_info": {
      "name": "python"
    },
    "kernelspec": {
      "name": "python3",
      "display_name": "Python 3"
    }
  },
  "nbformat": 4,
  "nbformat_minor": 5
}