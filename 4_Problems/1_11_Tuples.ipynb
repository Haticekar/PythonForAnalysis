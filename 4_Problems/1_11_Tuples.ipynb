{
  "cells": [
    {
      "cell_type": "markdown",
      "id": "20500a42",
      "metadata": {
        "id": "20500a42"
      },
      "source": [
        "<a target=\"_blank\" href=\"https://colab.research.google.com/github/lukebarousse/Python_Data_Analytics_Course/blob/main/4_Problems/1_11_Tuples.ipynb\">\n",
        "  <img src=\"https://colab.research.google.com/assets/colab-badge.svg\" alt=\"Open In Colab\"/>\n",
        "</a>"
      ]
    },
    {
      "cell_type": "markdown",
      "id": "5abdbe55",
      "metadata": {
        "id": "5abdbe55"
      },
      "source": [
        "## 🟩 Access Job Role (1.11.1)"
      ]
    },
    {
      "cell_type": "code",
      "execution_count": 3,
      "id": "1d281195",
      "metadata": {
        "id": "1d281195",
        "outputId": "a32f740e-dc40-458e-b599-16cc4c209971",
        "colab": {
          "base_uri": "https://localhost:8080/"
        }
      },
      "outputs": [
        {
          "output_type": "stream",
          "name": "stdout",
          "text": [
            "Data Analyst\n"
          ]
        }
      ],
      "source": [
        "# Code Needed\n",
        "job_roles = ('Data Scientist', 'Data Analyst', 'Machine Learning Engineer')\n",
        "print(job_roles[1])"
      ]
    },
    {
      "cell_type": "markdown",
      "id": "55986731",
      "metadata": {
        "id": "55986731"
      },
      "source": [
        "---"
      ]
    },
    {
      "cell_type": "markdown",
      "id": "ff20fe2b",
      "metadata": {
        "id": "ff20fe2b"
      },
      "source": [
        "## 🟨 Add Job Role to Tuple (1.11.2)"
      ]
    },
    {
      "cell_type": "code",
      "execution_count": 7,
      "id": "3c540847",
      "metadata": {
        "id": "3c540847",
        "outputId": "335092b4-75e8-4b85-8441-709c0713f1d8",
        "colab": {
          "base_uri": "https://localhost:8080/"
        }
      },
      "outputs": [
        {
          "output_type": "stream",
          "name": "stdout",
          "text": [
            "('Data Scientist', 'Data Analyst', 'Machine Learning Engineer', 'AI Specialist')\n"
          ]
        }
      ],
      "source": [
        "# Code Needed\n",
        "job_roles = ('Data Scientist', 'Data Analyst', 'Machine Learning Engineer')\n",
        "extended_job_roles = 'AI Specialist'\n",
        "extended_job_roles = job_roles + ('AI Specialist',)\n",
        "#job_roles+=(extended_job_roles,)\n",
        "print(extended_job_roles)"
      ]
    },
    {
      "cell_type": "markdown",
      "id": "675ef461",
      "metadata": {
        "id": "675ef461"
      },
      "source": [
        "---"
      ]
    },
    {
      "cell_type": "markdown",
      "id": "790f26db",
      "metadata": {
        "id": "790f26db"
      },
      "source": [
        "## 🟨 Remove Job Role from Tuple (1.11.3)"
      ]
    },
    {
      "cell_type": "code",
      "execution_count": 9,
      "id": "0b7cb7af",
      "metadata": {
        "id": "0b7cb7af",
        "outputId": "be5cd058-db8d-4983-899e-42d4c9e24ee1",
        "colab": {
          "base_uri": "https://localhost:8080/"
        }
      },
      "outputs": [
        {
          "output_type": "stream",
          "name": "stdout",
          "text": [
            "('Data Scientist', 'Machine Learning Engineer')\n"
          ]
        }
      ],
      "source": [
        "# Code Needed\n",
        "job_roles = ('Data Scientist', 'Data Analyst', 'Machine Learning Engineer')\n",
        "job_roles = list(job_roles)\n",
        "job_roles.remove('Data Analyst')\n",
        "job_roles = tuple(job_roles)\n",
        "print(job_roles)"
      ]
    },
    {
      "cell_type": "markdown",
      "id": "ffb135cd",
      "metadata": {
        "id": "ffb135cd"
      },
      "source": [
        "---"
      ]
    },
    {
      "cell_type": "markdown",
      "id": "62a6e18a",
      "metadata": {
        "id": "62a6e18a"
      },
      "source": [
        "## 🟨 Unpack Job Postings Tuple (1.11.4)"
      ]
    },
    {
      "cell_type": "code",
      "execution_count": 11,
      "id": "bb771d79",
      "metadata": {
        "id": "bb771d79",
        "outputId": "32870030-e4a8-4bfd-83bd-fe462c047ffe",
        "colab": {
          "base_uri": "https://localhost:8080/"
        }
      },
      "outputs": [
        {
          "output_type": "stream",
          "name": "stdout",
          "text": [
            "120\n",
            "120\n",
            "80\n",
            "50\n"
          ]
        }
      ],
      "source": [
        "# Code Needed\n",
        "job_postings = (120, 80, 50)\n",
        "\n",
        "data_scientist_postings = job_postings[0]\n",
        "data_analyst_postings = job_postings[1]\n",
        "ml_engineer_postings = job_postings[2]\n",
        "\n",
        "print(data_scientist_postings)\n",
        "\n",
        "#below the same result\n",
        "\n",
        "data_scientist_postings, data_analyst_postings, ml_engineer_postings = job_postings\n",
        "print(data_scientist_postings)\n",
        "print(data_analyst_postings)\n",
        "print(ml_engineer_postings)\n"
      ]
    },
    {
      "cell_type": "markdown",
      "id": "ca603ef4",
      "metadata": {
        "id": "ca603ef4"
      },
      "source": [
        "---"
      ]
    },
    {
      "cell_type": "markdown",
      "id": "b0965dc7",
      "metadata": {
        "id": "b0965dc7"
      },
      "source": [
        "## 🟥 Extract Nested Value from Tuple (1.11.5)"
      ]
    },
    {
      "cell_type": "code",
      "execution_count": 13,
      "id": "704fad1b",
      "metadata": {
        "id": "704fad1b",
        "outputId": "ee3890a3-9186-4a77-b652-7c86dc470dcc",
        "colab": {
          "base_uri": "https://localhost:8080/"
        }
      },
      "outputs": [
        {
          "output_type": "stream",
          "name": "stdout",
          "text": [
            "50\n"
          ]
        }
      ],
      "source": [
        "# Code Needed\n",
        "job_details = (('Data Scientist', 120), ('Data Analyst', 80), ('Machine Learning Engineer', 50))\n",
        "print(job_details[2][1])"
      ]
    },
    {
      "cell_type": "markdown",
      "id": "78683f7a",
      "metadata": {
        "id": "78683f7a"
      },
      "source": [
        "---"
      ]
    }
  ],
  "metadata": {
    "colab": {
      "provenance": []
    },
    "language_info": {
      "name": "python"
    },
    "kernelspec": {
      "name": "python3",
      "display_name": "Python 3"
    }
  },
  "nbformat": 4,
  "nbformat_minor": 5
}