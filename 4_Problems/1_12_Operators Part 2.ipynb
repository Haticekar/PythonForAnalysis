{
  "cells": [
    {
      "cell_type": "markdown",
      "id": "036c0cb0",
      "metadata": {
        "id": "036c0cb0"
      },
      "source": [
        "<a target=\"_blank\" href=\"https://colab.research.google.com/github/lukebarousse/Python_Data_Analytics_Course/blob/main/4_Problems/1_12_Operators Part 2.ipynb\">\n",
        "  <img src=\"https://colab.research.google.com/assets/colab-badge.svg\" alt=\"Open In Colab\"/>\n",
        "</a>"
      ]
    },
    {
      "cell_type": "markdown",
      "id": "e576e738",
      "metadata": {
        "id": "e576e738"
      },
      "source": [
        "## 🟩 Check Object Identity (1.12.1)"
      ]
    },
    {
      "cell_type": "code",
      "execution_count": 1,
      "id": "28d20b63",
      "metadata": {
        "id": "28d20b63",
        "outputId": "c907e55e-f0b2-476e-8ed0-15b9a6e28aba",
        "colab": {
          "base_uri": "https://localhost:8080/"
        }
      },
      "outputs": [
        {
          "output_type": "execute_result",
          "data": {
            "text/plain": [
              "True"
            ]
          },
          "metadata": {},
          "execution_count": 1
        }
      ],
      "source": [
        "# Code Needed\n",
        "job_title1 = 'Data Engineer'\n",
        "job_title2 = 'Data Scientist'\n",
        "\n",
        "job_title1 is not job_title2"
      ]
    },
    {
      "cell_type": "markdown",
      "id": "578c026c",
      "metadata": {
        "id": "578c026c"
      },
      "source": [
        "---"
      ]
    },
    {
      "cell_type": "markdown",
      "id": "55d410b4",
      "metadata": {
        "id": "55d410b4"
      },
      "source": [
        "## 🟩 Check Membership in List (1.12.2)"
      ]
    },
    {
      "cell_type": "code",
      "execution_count": 2,
      "id": "83716fca",
      "metadata": {
        "id": "83716fca",
        "outputId": "91381761-4395-4fb8-fa07-17bcaf6c65d8",
        "colab": {
          "base_uri": "https://localhost:8080/"
        }
      },
      "outputs": [
        {
          "output_type": "execute_result",
          "data": {
            "text/plain": [
              "True"
            ]
          },
          "metadata": {},
          "execution_count": 2
        }
      ],
      "source": [
        "# Code Needed\n",
        "job_locations = ['New York', 'San Francisco', 'Austin']\n",
        "\"New York\" in job_locations"
      ]
    },
    {
      "cell_type": "markdown",
      "id": "3fea50ad",
      "metadata": {
        "id": "3fea50ad"
      },
      "source": [
        "---"
      ]
    },
    {
      "cell_type": "markdown",
      "id": "32e38743",
      "metadata": {
        "id": "32e38743"
      },
      "source": [
        "## 🟨 Check Substring Not in String (1.12.3)"
      ]
    },
    {
      "cell_type": "code",
      "execution_count": 3,
      "id": "cffe612f",
      "metadata": {
        "id": "cffe612f",
        "outputId": "20cf3de9-20a6-4478-8536-5bef803388e1",
        "colab": {
          "base_uri": "https://localhost:8080/"
        }
      },
      "outputs": [
        {
          "output_type": "execute_result",
          "data": {
            "text/plain": [
              "True"
            ]
          },
          "metadata": {},
          "execution_count": 3
        }
      ],
      "source": [
        "# Code Needed\n",
        "job_title = 'Data Analyst'\n",
        "job_description = 'Data Scientist at Tech Corp'\n",
        "job_title not in job_description"
      ]
    },
    {
      "cell_type": "markdown",
      "id": "2fe810e2",
      "metadata": {
        "id": "2fe810e2"
      },
      "source": [
        "---"
      ]
    },
    {
      "cell_type": "markdown",
      "id": "d93644ab",
      "metadata": {
        "id": "d93644ab"
      },
      "source": [
        "## 🟨 Check Multiple Memberships (1.12.4)"
      ]
    },
    {
      "cell_type": "code",
      "execution_count": 4,
      "id": "66430c97",
      "metadata": {
        "id": "66430c97",
        "outputId": "94c6aac0-f171-426d-c171-9476f5234eaf",
        "colab": {
          "base_uri": "https://localhost:8080/"
        }
      },
      "outputs": [
        {
          "output_type": "execute_result",
          "data": {
            "text/plain": [
              "True"
            ]
          },
          "metadata": {},
          "execution_count": 4
        }
      ],
      "source": [
        "# Code Needed\n",
        "job_titles = ['Data Scientist', 'Data Analyst', 'Machine Learning Engineer']\n",
        "\"Data Scientist\" in job_titles and \"Machine Learning Engineer\" in job_titles"
      ]
    },
    {
      "cell_type": "markdown",
      "id": "844a092e",
      "metadata": {
        "id": "844a092e"
      },
      "source": [
        "---"
      ]
    },
    {
      "cell_type": "markdown",
      "id": "98e8e55f",
      "metadata": {
        "id": "98e8e55f"
      },
      "source": [
        "## 🟥 Bitwise OR Operation (1.12.5)"
      ]
    },
    {
      "cell_type": "code",
      "execution_count": 6,
      "id": "c6f178cc",
      "metadata": {
        "id": "c6f178cc",
        "outputId": "35960882-9b6e-4a27-d2d5-6e23fe37368a",
        "colab": {
          "base_uri": "https://localhost:8080/"
        }
      },
      "outputs": [
        {
          "output_type": "stream",
          "name": "stdout",
          "text": [
            "116720\n"
          ]
        }
      ],
      "source": [
        "# Code Needed\n",
        "salary1 = 100000 #we should convert to binary and then we can apply or operator.\n",
        "salary2 = 50000\n",
        "\n",
        "result = salary1 | salary2\n",
        "print(result)"
      ]
    },
    {
      "cell_type": "markdown",
      "id": "13780309",
      "metadata": {
        "id": "13780309"
      },
      "source": [
        "---"
      ]
    }
  ],
  "metadata": {
    "colab": {
      "provenance": []
    },
    "language_info": {
      "name": "python"
    },
    "kernelspec": {
      "name": "python3",
      "display_name": "Python 3"
    }
  },
  "nbformat": 4,
  "nbformat_minor": 5
}