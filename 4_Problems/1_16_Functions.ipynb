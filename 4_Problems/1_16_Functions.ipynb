{
  "cells": [
    {
      "cell_type": "markdown",
      "id": "47f7f9a6",
      "metadata": {
        "id": "47f7f9a6"
      },
      "source": [
        "<a target=\"_blank\" href=\"https://colab.research.google.com/github/lukebarousse/Python_Data_Analytics_Course/blob/main/4_Problems/1_16_Functions.ipynb\">\n",
        "  <img src=\"https://colab.research.google.com/assets/colab-badge.svg\" alt=\"Open In Colab\"/>\n",
        "</a>"
      ]
    },
    {
      "cell_type": "markdown",
      "id": "1db181cf",
      "metadata": {
        "id": "1db181cf"
      },
      "source": [
        "## 🟩 Job Title Contains (1.16.1)"
      ]
    },
    {
      "cell_type": "code",
      "execution_count": 3,
      "id": "740b79a1",
      "metadata": {
        "id": "740b79a1",
        "outputId": "95cab098-5aa6-4afe-b5e8-8f113dfbb22f",
        "colab": {
          "base_uri": "https://localhost:8080/"
        }
      },
      "outputs": [
        {
          "output_type": "execute_result",
          "data": {
            "text/plain": [
              "True"
            ]
          },
          "metadata": {},
          "execution_count": 3
        }
      ],
      "source": [
        "# Code Needed\n",
        "job_title = 'Data Scientist'\n",
        "keyword = 'Data'\n",
        "\n",
        "def job_title_contains(job_title, keyword):\n",
        "  return keyword in job_title\n",
        "\n",
        "job_title_contains(job_title,keyword)"
      ]
    },
    {
      "cell_type": "markdown",
      "id": "1732d805",
      "metadata": {
        "id": "1732d805"
      },
      "source": [
        "---"
      ]
    },
    {
      "cell_type": "markdown",
      "id": "14e34822",
      "metadata": {
        "id": "14e34822"
      },
      "source": [
        "## 🟩 Average Salary (1.16.2)"
      ]
    },
    {
      "cell_type": "code",
      "execution_count": 8,
      "id": "7662927c",
      "metadata": {
        "id": "7662927c",
        "outputId": "dcdca3b7-5603-466a-cc56-aaa86ee012c2",
        "colab": {
          "base_uri": "https://localhost:8080/"
        }
      },
      "outputs": [
        {
          "output_type": "stream",
          "name": "stdout",
          "text": [
            "108000.0\n",
            "****\n",
            "108000.0\n"
          ]
        }
      ],
      "source": [
        "# Code Needed\n",
        "salaries = [95000, 120000, 105000, 90000, 130000]\n",
        "\n",
        "def average_salary():\n",
        "  average = sum(salaries)/len(salaries)\n",
        "  return average\n",
        "\n",
        "print(average_salary())\n",
        "print(\"****\")\n",
        "\n",
        "def average_salary(salaries):\n",
        "  return sum(salaries)/len(salaries)\n",
        "\n",
        "print(average_salary(salaries))"
      ]
    },
    {
      "cell_type": "markdown",
      "id": "1e9a1c7b",
      "metadata": {
        "id": "1e9a1c7b"
      },
      "source": [
        "---"
      ]
    },
    {
      "cell_type": "markdown",
      "id": "21247fbc",
      "metadata": {
        "id": "21247fbc"
      },
      "source": [
        "## 🟨 Salary Statistics (1.16.3)"
      ]
    },
    {
      "cell_type": "code",
      "execution_count": 10,
      "id": "a1b6cf11",
      "metadata": {
        "id": "a1b6cf11",
        "outputId": "6ac40014-5559-4e8c-f53b-664f41c68350",
        "colab": {
          "base_uri": "https://localhost:8080/"
        }
      },
      "outputs": [
        {
          "output_type": "execute_result",
          "data": {
            "text/plain": [
              "{'Min': 90000, 'Max': 130000, 'Sum': 540000, 'Average': 108000.0}"
            ]
          },
          "metadata": {},
          "execution_count": 10
        }
      ],
      "source": [
        "# Code Needed\n",
        "salaries = [95000, 120000, 105000, 90000, 130000]\n",
        "\n",
        "def salary_statistics(salaries):\n",
        "  return {\n",
        "      \"Min\" : min(salaries),\n",
        "      \"Max\" : max(salaries),\n",
        "      \"Sum\" : sum(salaries),\n",
        "      \"Average\" : sum(salaries)/len(salaries)\n",
        "      }\n",
        "\n",
        "salary_statistics(salaries)\n"
      ]
    },
    {
      "cell_type": "markdown",
      "id": "99eed404",
      "metadata": {
        "id": "99eed404"
      },
      "source": [
        "---"
      ]
    },
    {
      "cell_type": "markdown",
      "id": "e833849f",
      "metadata": {
        "id": "e833849f"
      },
      "source": [
        "## 🟥 Job Posting Summary (1.16.4)"
      ]
    },
    {
      "cell_type": "code",
      "execution_count": 23,
      "id": "cb857ad6",
      "metadata": {
        "id": "cb857ad6",
        "outputId": "2d909bf4-ba84-481c-d2fd-89a76a759e94",
        "colab": {
          "base_uri": "https://localhost:8080/"
        }
      },
      "outputs": [
        {
          "output_type": "execute_result",
          "data": {
            "text/plain": [
              "{'Total Postings': 3,\n",
              " 'Total Salary': 295000,\n",
              " 'Average Salary': 98333.33333333333,\n",
              " 'Unique Locations': ['San Francisco', 'New York']}"
            ]
          },
          "metadata": {},
          "execution_count": 23
        }
      ],
      "source": [
        "def job_posting_summary(job_postings):\n",
        "  total_postings = len(job_postings)\n",
        "  total_salary = sum(posting[\"salary\"] for posting in job_postings)\n",
        "  average_salary = total_salary / total_postings\n",
        "  unique_locations = list(set(posting[\"location\"] for posting in job_postings))\n",
        "\n",
        "  return {\n",
        "      \"Total Postings\": total_postings,\n",
        "      \"Total Salary\": total_salary,\n",
        "      \"Average Salary\": average_salary,\n",
        "      \"Unique Locations\": unique_locations\n",
        "  }\n",
        "\n",
        "job_postings = [\n",
        "    {'title': 'Data Scientist', 'location': 'New York', 'salary': 95000},\n",
        "    {'title': 'Data Analyst', 'location': 'San Francisco', 'salary': 85000},\n",
        "    {'title': 'Machine Learning Engineer', 'location': 'New York', 'salary': 115000}\n",
        "]\n",
        "\n",
        "job_posting_summary(job_postings)"
      ]
    },
    {
      "cell_type": "markdown",
      "id": "8b082c95",
      "metadata": {
        "id": "8b082c95"
      },
      "source": [
        "---"
      ]
    }
  ],
  "metadata": {
    "colab": {
      "provenance": []
    },
    "language_info": {
      "name": "python"
    },
    "kernelspec": {
      "name": "python3",
      "display_name": "Python 3"
    }
  },
  "nbformat": 4,
  "nbformat_minor": 5
}