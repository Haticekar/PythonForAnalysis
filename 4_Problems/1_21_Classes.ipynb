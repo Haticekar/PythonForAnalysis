{
  "cells": [
    {
      "cell_type": "markdown",
      "id": "18a8d444",
      "metadata": {
        "id": "18a8d444"
      },
      "source": [
        "<a target=\"_blank\" href=\"https://colab.research.google.com/github/lukebarousse/Python_Data_Analytics_Course/blob/main/4_Problems/1_21_Classes.ipynb\">\n",
        "  <img src=\"https://colab.research.google.com/assets/colab-badge.svg\" alt=\"Open In Colab\"/>\n",
        "</a>"
      ]
    },
    {
      "cell_type": "markdown",
      "id": "edc8a40a",
      "metadata": {
        "id": "edc8a40a"
      },
      "source": [
        "## 🟩 Create JobPosting Class (1.21.1)"
      ]
    },
    {
      "cell_type": "code",
      "execution_count": 1,
      "id": "26bdb6dc",
      "metadata": {
        "id": "26bdb6dc"
      },
      "outputs": [],
      "source": [
        "# Create the JobPostings class in this code cell\n",
        "class JobPosting:\n",
        "  def __init__(self, title, company, location):\n",
        "    self.title = title\n",
        "    self.company = company\n",
        "    self.location = location"
      ]
    },
    {
      "cell_type": "code",
      "execution_count": 5,
      "id": "2461f7a5",
      "metadata": {
        "id": "2461f7a5",
        "outputId": "42885167-2e54-4b05-c43e-62c9bf4d21c5",
        "colab": {
          "base_uri": "https://localhost:8080/"
        }
      },
      "outputs": [
        {
          "output_type": "stream",
          "name": "stdout",
          "text": [
            "Title : Data Scientist, Company : Tech Innovations, Location : New York \n"
          ]
        }
      ],
      "source": [
        "# Code Needed\n",
        "job = JobPosting('Data Scientist', 'Tech Innovations', 'New York')\n",
        "print(f\"Title : {job.title}, Company : {job.company}, Location : {job.location} \")\n"
      ]
    },
    {
      "cell_type": "markdown",
      "id": "98b6caff",
      "metadata": {
        "id": "98b6caff"
      },
      "source": [
        "---"
      ]
    },
    {
      "cell_type": "markdown",
      "id": "b152b78d",
      "metadata": {
        "id": "b152b78d"
      },
      "source": [
        "## 🟨 Convert to Dictionary (1.21.2)"
      ]
    },
    {
      "cell_type": "code",
      "execution_count": 11,
      "id": "82b617cd",
      "metadata": {
        "id": "82b617cd"
      },
      "outputs": [],
      "source": [
        "# Create the JobPostings class in this code cell\n",
        "class JobPosting:\n",
        "\n",
        "  def __init__(self, title, company, location, salary):\n",
        "    self.title = title\n",
        "    self.company = company\n",
        "    self.location = location\n",
        "    self.salary = salary\n",
        "\n",
        "  def to_dict(self):\n",
        "    #return self.__dict__\n",
        "     return {\n",
        "            'title': self.title,\n",
        "            'company': self.company,\n",
        "            'location': self.location,\n",
        "            'salary': self.salary\n",
        "        }\n",
        "\n",
        "\n"
      ]
    },
    {
      "cell_type": "code",
      "execution_count": 12,
      "id": "d1bc613a",
      "metadata": {
        "id": "d1bc613a",
        "outputId": "8992dd57-6719-4bd9-c462-320b6dc9509b",
        "colab": {
          "base_uri": "https://localhost:8080/"
        }
      },
      "outputs": [
        {
          "output_type": "stream",
          "name": "stdout",
          "text": [
            "{'title': 'Data Scientist', 'company': 'Tech Innovations', 'location': 'New York', 'salary': 120000}\n"
          ]
        }
      ],
      "source": [
        "# Code Needed\n",
        "job = JobPosting('Data Scientist', 'Tech Innovations', 'New York', 120000)\n",
        "print(job.to_dict())"
      ]
    },
    {
      "cell_type": "markdown",
      "id": "68c9b6ec",
      "metadata": {
        "id": "68c9b6ec"
      },
      "source": [
        "---"
      ]
    },
    {
      "cell_type": "markdown",
      "id": "65b80ffe",
      "metadata": {
        "id": "65b80ffe"
      },
      "source": [
        "## 🟥 Compare Job Salaries (1.21.3)"
      ]
    },
    {
      "cell_type": "code",
      "execution_count": 18,
      "id": "5d5cf1bd",
      "metadata": {
        "id": "5d5cf1bd"
      },
      "outputs": [],
      "source": [
        "# Create the JobPostings class in this code cell\n",
        "class JobPosting:\n",
        "  def __init__(self, title, company, location, salary,):\n",
        "    self.title = title\n",
        "    self.company = company\n",
        "    self.location = location\n",
        "    self.salary = salary\n",
        "\n",
        "\n",
        "  def compare_salary(self, other_job):\n",
        "    if self.salary > other_job.salary:\n",
        "      return f\"{self.title} has a higher salary than {other_job.title}\"\n",
        "    elif self.salary < other_job.salary:\n",
        "      return f\"{other_job.title} has a higher salary than {self.title}\""
      ]
    },
    {
      "cell_type": "code",
      "execution_count": 23,
      "id": "5a6b25e4",
      "metadata": {
        "id": "5a6b25e4",
        "outputId": "1ee3fdf7-5fac-45c4-e968-d4c604997261",
        "colab": {
          "base_uri": "https://localhost:8080/"
        }
      },
      "outputs": [
        {
          "output_type": "stream",
          "name": "stdout",
          "text": [
            "Data Scientist has a higher salary than Data Analyst\n"
          ]
        }
      ],
      "source": [
        "# Code Needed\n",
        "job1 = JobPosting('Data Scientist', 'Tech Innovations', 'New York', 120000)\n",
        "job2 = JobPosting('Data Analyst', 'Data Driven Co', 'San Francisco', 100000)\n",
        "\n",
        "compare = job2.compare_salary(job1) #This statement calls the compare_salary method of the job1 object and returns the job2 object as an argument in this method. That is, it is used to compare the salaries of job1 and job2 objects.\n",
        "print(compare)\n"
      ]
    },
    {
      "cell_type": "markdown",
      "id": "0f083bf1",
      "metadata": {
        "id": "0f083bf1"
      },
      "source": [
        "---"
      ]
    }
  ],
  "metadata": {
    "language_info": {
      "name": "python"
    },
    "colab": {
      "provenance": []
    },
    "kernelspec": {
      "name": "python3",
      "display_name": "Python 3"
    }
  },
  "nbformat": 4,
  "nbformat_minor": 5
}