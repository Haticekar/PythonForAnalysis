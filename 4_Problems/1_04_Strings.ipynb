{
  "cells": [
    {
      "cell_type": "markdown",
      "id": "1ecc411a",
      "metadata": {
        "id": "1ecc411a"
      },
      "source": [
        "<a target=\"_blank\" href=\"https://colab.research.google.com/github/lukebarousse/Python_Data_Analytics_Course/blob/main/4_Problems/1_04_Strings.ipynb\">\n",
        "  <img src=\"https://colab.research.google.com/assets/colab-badge.svg\" alt=\"Open In Colab\"/>\n",
        "</a>"
      ]
    },
    {
      "cell_type": "markdown",
      "id": "c03b0f9a",
      "metadata": {
        "id": "c03b0f9a"
      },
      "source": [
        "## 🟩 Convert to Uppercase (1.4.1)"
      ]
    },
    {
      "cell_type": "code",
      "execution_count": 3,
      "id": "ed154db0",
      "metadata": {
        "id": "ed154db0",
        "outputId": "6563a079-02ea-440c-b1e7-e05f18eb5667",
        "colab": {
          "base_uri": "https://localhost:8080/"
        }
      },
      "outputs": [
        {
          "output_type": "stream",
          "name": "stdout",
          "text": [
            "DATA SCIENTIST\n"
          ]
        }
      ],
      "source": [
        "# Code Needed\n",
        "job_title = 'data scientist'\n",
        "job_title.upper()\n",
        "\n",
        "#Below the different way\n",
        "job_title_upper = job_title.upper()\n",
        "print(job_title_upper)"
      ]
    },
    {
      "cell_type": "markdown",
      "id": "352397ff",
      "metadata": {
        "id": "352397ff"
      },
      "source": [
        "---"
      ]
    },
    {
      "cell_type": "markdown",
      "id": "4203b265",
      "metadata": {
        "id": "4203b265"
      },
      "source": [
        "## 🟩 Replace Substring (1.4.2)"
      ]
    },
    {
      "cell_type": "code",
      "execution_count": 5,
      "id": "9088a3fb",
      "metadata": {
        "id": "9088a3fb",
        "outputId": "46e3a99b-9315-4937-ea5e-b7e789908775",
        "colab": {
          "base_uri": "https://localhost:8080/"
        }
      },
      "outputs": [
        {
          "output_type": "stream",
          "name": "stdout",
          "text": [
            "Data Engineer\n"
          ]
        }
      ],
      "source": [
        "# Code Needed\n",
        "job_title = 'Data Analyst'\n",
        "job_title_replaced = job_title.replace(\"Analyst\", \"Engineer\")\n",
        "print(job_title_replaced)"
      ]
    },
    {
      "cell_type": "markdown",
      "id": "d3b7cb4d",
      "metadata": {
        "id": "d3b7cb4d"
      },
      "source": [
        "---"
      ]
    },
    {
      "cell_type": "markdown",
      "id": "23c6e347",
      "metadata": {
        "id": "23c6e347"
      },
      "source": [
        "## 🟨 Concatenate Strings (1.4.3)"
      ]
    },
    {
      "cell_type": "code",
      "execution_count": 8,
      "id": "1c7fb9f8",
      "metadata": {
        "id": "1c7fb9f8",
        "outputId": "76ceb9ec-610e-4d62-eb55-651225cf1805",
        "colab": {
          "base_uri": "https://localhost:8080/"
        }
      },
      "outputs": [
        {
          "output_type": "stream",
          "name": "stdout",
          "text": [
            "Senior Data Analyst\n"
          ]
        }
      ],
      "source": [
        "# Code Needed\n",
        "seniority_level = 'Senior'\n",
        "job_title = 'Data Analyst'\n",
        "\n",
        "f\"{seniority_level} {job_title}\"\n",
        "\n",
        "#Below the different way\n",
        "full_title = seniority_level + \" \" + job_title\n",
        "print(full_title)"
      ]
    },
    {
      "cell_type": "markdown",
      "id": "cc76f111",
      "metadata": {
        "id": "cc76f111"
      },
      "source": [
        "---"
      ]
    },
    {
      "cell_type": "markdown",
      "id": "ec722767",
      "metadata": {
        "id": "ec722767"
      },
      "source": [
        "## 🟨 Check String Length (1.4.4)"
      ]
    },
    {
      "cell_type": "code",
      "execution_count": 9,
      "id": "9f81d0d5",
      "metadata": {
        "id": "9f81d0d5",
        "outputId": "e1c6c0be-6b2c-4e13-f48b-a92362918c65",
        "colab": {
          "base_uri": "https://localhost:8080/"
        }
      },
      "outputs": [
        {
          "output_type": "execute_result",
          "data": {
            "text/plain": [
              "14"
            ]
          },
          "metadata": {},
          "execution_count": 9
        }
      ],
      "source": [
        "# Code Needed\n",
        "job_title = 'Data Scientist'\n",
        "len(job_title)"
      ]
    },
    {
      "cell_type": "markdown",
      "id": "4a8d3a3c",
      "metadata": {
        "id": "4a8d3a3c"
      },
      "source": [
        "---"
      ]
    },
    {
      "cell_type": "markdown",
      "id": "c41c4f1a",
      "metadata": {
        "id": "c41c4f1a"
      },
      "source": [
        "## 🟩 Convert to lowercase (1.4.5)"
      ]
    },
    {
      "cell_type": "code",
      "execution_count": 11,
      "id": "74a3336c",
      "metadata": {
        "id": "74a3336c",
        "outputId": "18f69786-db7a-4ae9-bcb2-099ec534579d",
        "colab": {
          "base_uri": "https://localhost:8080/"
        }
      },
      "outputs": [
        {
          "output_type": "stream",
          "name": "stdout",
          "text": [
            "data engineer\n"
          ]
        }
      ],
      "source": [
        "# Code Needed\n",
        "job_title = 'DATA ENGINEER'\n",
        "job_title_lower = job_title.lower()\n",
        "print(job_title_lower)"
      ]
    },
    {
      "cell_type": "markdown",
      "id": "bfce44ab",
      "metadata": {
        "id": "bfce44ab"
      },
      "source": [
        "---"
      ]
    }
  ],
  "metadata": {
    "colab": {
      "provenance": []
    },
    "language_info": {
      "name": "python"
    },
    "kernelspec": {
      "name": "python3",
      "display_name": "Python 3"
    }
  },
  "nbformat": 4,
  "nbformat_minor": 5
}