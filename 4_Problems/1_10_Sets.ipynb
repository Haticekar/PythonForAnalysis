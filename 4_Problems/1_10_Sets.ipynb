{
  "cells": [
    {
      "cell_type": "markdown",
      "id": "5c289cc9",
      "metadata": {
        "id": "5c289cc9"
      },
      "source": [
        "<a target=\"_blank\" href=\"https://colab.research.google.com/github/lukebarousse/Python_Data_Analytics_Course/blob/main/4_Problems/1_10_Sets.ipynb\">\n",
        "  <img src=\"https://colab.research.google.com/assets/colab-badge.svg\" alt=\"Open In Colab\"/>\n",
        "</a>"
      ]
    },
    {
      "cell_type": "markdown",
      "id": "96889df9",
      "metadata": {
        "id": "96889df9"
      },
      "source": [
        "## 🟩 Add Job Title to Set (1.10.1)"
      ]
    },
    {
      "cell_type": "code",
      "execution_count": 3,
      "id": "6fb688cc",
      "metadata": {
        "id": "6fb688cc",
        "outputId": "fa315ccd-bba4-43d1-a54f-6560d4468d51",
        "colab": {
          "base_uri": "https://localhost:8080/"
        }
      },
      "outputs": [
        {
          "output_type": "stream",
          "name": "stdout",
          "text": [
            "{'AI Specialist', 'Machine Learning Engineer', 'Data Scientist', 'Data Analyst'}\n"
          ]
        }
      ],
      "source": [
        "# Code Needed\n",
        "unique_job_titles = {'Data Scientist', 'Data Analyst', 'Machine Learning Engineer'}\n",
        "unique_job_titles.add('AI Specialist')\n",
        "print(unique_job_titles)"
      ]
    },
    {
      "cell_type": "markdown",
      "id": "2ce68b60",
      "metadata": {
        "id": "2ce68b60"
      },
      "source": [
        "---"
      ]
    },
    {
      "cell_type": "markdown",
      "id": "88c8936c",
      "metadata": {
        "id": "88c8936c"
      },
      "source": [
        "## 🟩 Remove Job Title from Set (1.10.2)"
      ]
    },
    {
      "cell_type": "code",
      "execution_count": 5,
      "id": "dd12611a",
      "metadata": {
        "id": "dd12611a",
        "outputId": "abf74dce-0cfb-43c4-afa7-31d0e193a699",
        "colab": {
          "base_uri": "https://localhost:8080/"
        }
      },
      "outputs": [
        {
          "output_type": "stream",
          "name": "stdout",
          "text": [
            "{'Machine Learning Engineer', 'Data Scientist'}\n"
          ]
        }
      ],
      "source": [
        "# Code Needed\n",
        "unique_job_titles = {'Data Scientist', 'Data Analyst', 'Machine Learning Engineer'}\n",
        "unique_job_titles.remove(\"Data Analyst\")\n",
        "print(unique_job_titles)"
      ]
    },
    {
      "cell_type": "markdown",
      "id": "4c803884",
      "metadata": {
        "id": "4c803884"
      },
      "source": [
        "---"
      ]
    },
    {
      "cell_type": "markdown",
      "id": "ec940385",
      "metadata": {
        "id": "ec940385"
      },
      "source": [
        "## 🟩 Create Unique Job Locations Set (1.10.3)"
      ]
    },
    {
      "cell_type": "code",
      "execution_count": 7,
      "id": "fd7983e1",
      "metadata": {
        "id": "fd7983e1",
        "outputId": "4e27d78b-d5b1-41e3-cd62-4b6b20b60bec",
        "colab": {
          "base_uri": "https://localhost:8080/"
        }
      },
      "outputs": [
        {
          "output_type": "stream",
          "name": "stdout",
          "text": [
            "{'New York', 'San Francisco', 'Austin'}\n"
          ]
        }
      ],
      "source": [
        "# Code Needed\n",
        "job_locations = ['New York', 'San Francisco', 'New York', 'Austin', 'San Francisco']\n",
        "unique_job_locations = set(job_locations)\n",
        "print(unique_job_locations)"
      ]
    },
    {
      "cell_type": "markdown",
      "id": "bfac45d1",
      "metadata": {
        "id": "bfac45d1"
      },
      "source": [
        "---"
      ]
    },
    {
      "cell_type": "markdown",
      "id": "910d6bab",
      "metadata": {
        "id": "910d6bab"
      },
      "source": [
        "## 🟨 Union of Job Skills Sets (1.10.4)"
      ]
    },
    {
      "cell_type": "code",
      "execution_count": 8,
      "id": "75ba0d0c",
      "metadata": {
        "id": "75ba0d0c",
        "outputId": "7d7ec7b1-2fe6-48ff-ada0-199096297bb1",
        "colab": {
          "base_uri": "https://localhost:8080/"
        }
      },
      "outputs": [
        {
          "output_type": "stream",
          "name": "stdout",
          "text": [
            "{'SQL', 'Python', 'Tableau', 'R', 'Machine Learning'}\n"
          ]
        }
      ],
      "source": [
        "# Code Needed\n",
        "skills_set1 = {'Python', 'SQL', 'Tableau'}\n",
        "skills_set2 = {'R', 'SQL', 'Machine Learning'}\n",
        "union_skill = skills_set1.union(skills_set2)\n",
        "print(union_skill)"
      ]
    },
    {
      "cell_type": "markdown",
      "id": "55d254da",
      "metadata": {
        "id": "55d254da"
      },
      "source": [
        "---"
      ]
    }
  ],
  "metadata": {
    "colab": {
      "provenance": []
    },
    "language_info": {
      "name": "python"
    },
    "kernelspec": {
      "name": "python3",
      "display_name": "Python 3"
    }
  },
  "nbformat": 4,
  "nbformat_minor": 5
}