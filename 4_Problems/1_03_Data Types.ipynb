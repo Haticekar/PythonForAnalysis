{
  "cells": [
    {
      "cell_type": "markdown",
      "id": "7ab4aeb5",
      "metadata": {
        "id": "7ab4aeb5"
      },
      "source": [
        "<a target=\"_blank\" href=\"https://colab.research.google.com/github/lukebarousse/Python_Data_Analytics_Course/blob/main/4_Problems/1_03_Data Types.ipynb\">\n",
        "  <img src=\"https://colab.research.google.com/assets/colab-badge.svg\" alt=\"Open In Colab\"/>\n",
        "</a>"
      ]
    },
    {
      "cell_type": "markdown",
      "id": "5574e3d0",
      "metadata": {
        "id": "5574e3d0"
      },
      "source": [
        "## 🟩 Check Data Type (1.3.1)"
      ]
    },
    {
      "cell_type": "code",
      "execution_count": 4,
      "id": "ca389065",
      "metadata": {
        "colab": {
          "base_uri": "https://localhost:8080/"
        },
        "id": "ca389065",
        "outputId": "708ec25e-4726-458c-cf28-7775ef2638d9"
      },
      "outputs": [
        {
          "output_type": "stream",
          "name": "stdout",
          "text": [
            "<class 'str'>\n"
          ]
        }
      ],
      "source": [
        "job_title = \"Data Scientist\"\n",
        "job_title\n",
        "#type(job_title)\n",
        "print(type(job_title))"
      ]
    },
    {
      "cell_type": "markdown",
      "id": "7b166e5c",
      "metadata": {
        "id": "7b166e5c"
      },
      "source": [
        "---"
      ]
    },
    {
      "cell_type": "markdown",
      "id": "bc4093b6",
      "metadata": {
        "id": "bc4093b6"
      },
      "source": [
        "## 🟩 Check Float Type (1.3.2)"
      ]
    },
    {
      "cell_type": "code",
      "execution_count": 5,
      "id": "07954965",
      "metadata": {
        "colab": {
          "base_uri": "https://localhost:8080/"
        },
        "id": "07954965",
        "outputId": "c168c537-c7ae-4dd7-f60e-017841357435"
      },
      "outputs": [
        {
          "output_type": "stream",
          "name": "stdout",
          "text": [
            "<class 'float'>\n"
          ]
        }
      ],
      "source": [
        "salary = 85000.50\n",
        "print(type(salary))"
      ]
    },
    {
      "cell_type": "markdown",
      "id": "37ad30b0",
      "metadata": {
        "id": "37ad30b0"
      },
      "source": [
        "---"
      ]
    },
    {
      "cell_type": "markdown",
      "id": "ba5f1ead",
      "metadata": {
        "id": "ba5f1ead"
      },
      "source": [
        "## 🟨 Convert to Integer (1.3.3)"
      ]
    },
    {
      "cell_type": "code",
      "execution_count": 7,
      "id": "4ab358e6",
      "metadata": {
        "colab": {
          "base_uri": "https://localhost:8080/"
        },
        "id": "4ab358e6",
        "outputId": "b16efdc1-4b50-41b0-a01e-e3168f9388da"
      },
      "outputs": [
        {
          "output_type": "stream",
          "name": "stdout",
          "text": [
            "<class 'int'>\n"
          ]
        }
      ],
      "source": [
        "salary_Rate = 120000.75\n",
        "new_salarry_Rate = int(salary_Rate)\n",
        "print(type(new_salarry_Rate))"
      ]
    },
    {
      "cell_type": "markdown",
      "id": "5cd8185f",
      "metadata": {
        "id": "5cd8185f"
      },
      "source": [
        "---"
      ]
    },
    {
      "cell_type": "markdown",
      "id": "54a9cf24",
      "metadata": {
        "id": "54a9cf24"
      },
      "source": [
        "## 🟥 Check String Type (1.3.4)"
      ]
    },
    {
      "cell_type": "code",
      "execution_count": 11,
      "id": "b34b708d",
      "metadata": {
        "colab": {
          "base_uri": "https://localhost:8080/"
        },
        "id": "b34b708d",
        "outputId": "ed2e27c7-18f1-4dff-9c66-bd83922e5330"
      },
      "outputs": [
        {
          "output_type": "stream",
          "name": "stdout",
          "text": [
            "<class 'str'>\n",
            "True\n"
          ]
        }
      ],
      "source": [
        "company_name = \"'DataWiz Inc.\"\n",
        "print(type(company_name))\n",
        "isinstance(company_name, str)\n",
        "\n",
        "print(isinstance(company_name, str))\n",
        "\n",
        "#The isinstance() function in Python is used to check if an object is an instance of a specific class or type, or a tuple of classes/types.\n",
        "#It returns True if the object is an instance of the specified class or type, and False otherwise."
      ]
    },
    {
      "cell_type": "markdown",
      "id": "d3225984",
      "metadata": {
        "id": "d3225984"
      },
      "source": [
        "---"
      ]
    }
  ],
  "metadata": {
    "colab": {
      "provenance": []
    },
    "language_info": {
      "name": "python"
    },
    "kernelspec": {
      "name": "python3",
      "display_name": "Python 3"
    }
  },
  "nbformat": 4,
  "nbformat_minor": 5
}