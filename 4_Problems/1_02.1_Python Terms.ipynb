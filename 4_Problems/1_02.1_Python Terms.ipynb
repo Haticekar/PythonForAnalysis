{
  "cells": [
    {
      "cell_type": "markdown",
      "id": "95f6ce0f",
      "metadata": {
        "id": "95f6ce0f"
      },
      "source": [
        "<a target=\"_blank\" href=\"https://colab.research.google.com/github/lukebarousse/Python_Data_Analytics_Course/blob/main/4_Problems/1_02.1_Python Terms.ipynb\">\n",
        "  <img src=\"https://colab.research.google.com/assets/colab-badge.svg\" alt=\"Open In Colab\"/>\n",
        "</a>"
      ]
    },
    {
      "cell_type": "markdown",
      "id": "beb9ad38",
      "metadata": {
        "id": "beb9ad38"
      },
      "source": [
        "## 🟩 Example of Object (1.2.1.1)"
      ]
    },
    {
      "cell_type": "code",
      "execution_count": 5,
      "id": "c12eb275",
      "metadata": {
        "colab": {
          "base_uri": "https://localhost:8080/"
        },
        "id": "c12eb275",
        "outputId": "640cf179-64d2-4a06-f6bd-3dc6ffc3e939"
      },
      "outputs": [
        {
          "output_type": "stream",
          "name": "stdout",
          "text": [
            "42\n"
          ]
        }
      ],
      "source": [
        "job_count = 42\n",
        "print(job_count)"
      ]
    },
    {
      "cell_type": "markdown",
      "id": "4f92e924",
      "metadata": {
        "id": "4f92e924"
      },
      "source": [
        "---"
      ]
    },
    {
      "cell_type": "markdown",
      "id": "0d8bd28e",
      "metadata": {
        "id": "0d8bd28e"
      },
      "source": [
        "## 🟩 Define Variable (1.2.1.2)"
      ]
    },
    {
      "cell_type": "code",
      "execution_count": 7,
      "id": "b86bf00f",
      "metadata": {
        "colab": {
          "base_uri": "https://localhost:8080/"
        },
        "id": "b86bf00f",
        "outputId": "04aba1fe-40fb-425c-e53b-a3c1e48457ab"
      },
      "outputs": [
        {
          "output_type": "stream",
          "name": "stdout",
          "text": [
            "Data Enginner DataWorks True\n"
          ]
        }
      ],
      "source": [
        "job_title = \"Data Enginner\"\n",
        "company_name = \"DataWorks\"\n",
        "remote_status = True\n",
        "print(job_title, company_name, remote_status)\n"
      ]
    },
    {
      "cell_type": "markdown",
      "id": "cb421822",
      "metadata": {
        "id": "cb421822"
      },
      "source": [
        "---"
      ]
    },
    {
      "cell_type": "markdown",
      "id": "6e3537ff",
      "metadata": {
        "id": "6e3537ff"
      },
      "source": [
        "## 🟨 Define Function (1.2.1.3)"
      ]
    },
    {
      "cell_type": "code",
      "execution_count": 8,
      "id": "cde6212a",
      "metadata": {
        "colab": {
          "base_uri": "https://localhost:8080/"
        },
        "id": "cde6212a",
        "outputId": "1d8c3bfb-44e3-42c3-d4ab-cc8e64d4fb33"
      },
      "outputs": [
        {
          "output_type": "stream",
          "name": "stdout",
          "text": [
            "140000\n"
          ]
        }
      ],
      "source": [
        "base_salary = 120000\n",
        "bonus = 20000\n",
        "total_compensation = base_salary + bonus\n",
        "print(total_compensation)\n"
      ]
    },
    {
      "cell_type": "markdown",
      "id": "7d7fbaf5",
      "metadata": {
        "id": "7d7fbaf5"
      },
      "source": [
        "---"
      ]
    },
    {
      "cell_type": "markdown",
      "id": "3b23bdf3",
      "metadata": {
        "id": "3b23bdf3"
      },
      "source": [
        "## 🟨 Define Class (1.2.1.4)"
      ]
    },
    {
      "cell_type": "code",
      "execution_count": 14,
      "id": "8258d78c",
      "metadata": {
        "colab": {
          "base_uri": "https://localhost:8080/"
        },
        "id": "8258d78c",
        "outputId": "e6d4d07c-9222-44c2-f71f-8c0ab758fd6b"
      },
      "outputs": [
        {
          "output_type": "stream",
          "name": "stdout",
          "text": [
            "6000.0\n"
          ]
        }
      ],
      "source": [
        "annual_salary = 72000\n",
        "monthly_salary = annual_salary / 12\n",
        "print(monthly_salary)"
      ]
    },
    {
      "cell_type": "markdown",
      "id": "a7b1c8db",
      "metadata": {
        "id": "a7b1c8db"
      },
      "source": [
        "---"
      ]
    },
    {
      "cell_type": "markdown",
      "id": "4e4c0d49",
      "metadata": {
        "id": "4e4c0d49"
      },
      "source": [
        "## 🟥 Call Method (1.2.1.5)"
      ]
    },
    {
      "cell_type": "code",
      "execution_count": 19,
      "id": "5f123b9b",
      "metadata": {
        "colab": {
          "base_uri": "https://localhost:8080/"
        },
        "id": "5f123b9b",
        "outputId": "0a9389c6-d825-4e20-8cbe-97f7d168060c"
      },
      "outputs": [
        {
          "output_type": "stream",
          "name": "stdout",
          "text": [
            "Data Scientist AI Solutions 121000.0\n"
          ]
        }
      ],
      "source": [
        "job_title = \"Data Scientist\"\n",
        "company_name = \"AI Solutions\"\n",
        "salary = 110000\n",
        "bonus = salary*0.1\n",
        "total_compensation = salary + bonus\n",
        "print(job_title, company_name, total_compensation)\n",
        "\n"
      ]
    },
    {
      "cell_type": "markdown",
      "id": "84d3740e",
      "metadata": {
        "id": "84d3740e"
      },
      "source": [
        "---"
      ]
    },
    {
      "cell_type": "markdown",
      "id": "7b8b125d",
      "metadata": {
        "id": "7b8b125d"
      },
      "source": [
        "## 🟥 Example of Attribute (1.2.1.6)"
      ]
    },
    {
      "cell_type": "code",
      "execution_count": null,
      "id": "d0c76efd",
      "metadata": {
        "id": "d0c76efd"
      },
      "outputs": [],
      "source": []
    },
    {
      "cell_type": "markdown",
      "id": "b54deeb8",
      "metadata": {
        "id": "b54deeb8"
      },
      "source": [
        "---"
      ]
    }
  ],
  "metadata": {
    "colab": {
      "provenance": [],
      "toc_visible": true
    },
    "language_info": {
      "name": "python"
    },
    "kernelspec": {
      "name": "python3",
      "display_name": "Python 3"
    }
  },
  "nbformat": 4,
  "nbformat_minor": 5
}