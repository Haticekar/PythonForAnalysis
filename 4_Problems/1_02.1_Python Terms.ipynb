{
  "cells": [
    {
      "cell_type": "markdown",
      "metadata": {
        "id": "view-in-github",
        "colab_type": "text"
      },
      "source": [
        "<a href=\"https://colab.research.google.com/github/Haticekar/PythonForAnalysis/blob/main/4_Problems/1_02.1_Python%20Terms.ipynb\" target=\"_parent\"><img src=\"https://colab.research.google.com/assets/colab-badge.svg\" alt=\"Open In Colab\"/></a>"
      ]
    },
    {
      "cell_type": "markdown",
      "id": "95f6ce0f",
      "metadata": {
        "id": "95f6ce0f"
      },
      "source": [
        "<a target=\"_blank\" href=\"https://colab.research.google.com/github/lukebarousse/Python_Data_Analytics_Course/blob/main/4_Problems/1_02.1_Python Terms.ipynb\">\n",
        "  <img src=\"https://colab.research.google.com/assets/colab-badge.svg\" alt=\"Open In Colab\"/>\n",
        "</a>"
      ]
    },
    {
      "cell_type": "markdown",
      "id": "beb9ad38",
      "metadata": {
        "id": "beb9ad38"
      },
      "source": [
        "## 🟩 Example of Object (1.2.1.1)"
      ]
    },
    {
      "cell_type": "code",
      "execution_count": null,
      "id": "c12eb275",
      "metadata": {
        "id": "c12eb275"
      },
      "outputs": [],
      "source": []
    },
    {
      "cell_type": "markdown",
      "id": "4f92e924",
      "metadata": {
        "id": "4f92e924"
      },
      "source": [
        "---"
      ]
    },
    {
      "cell_type": "markdown",
      "id": "0d8bd28e",
      "metadata": {
        "id": "0d8bd28e"
      },
      "source": [
        "## 🟩 Define Variable (1.2.1.2)"
      ]
    },
    {
      "cell_type": "code",
      "execution_count": null,
      "id": "b86bf00f",
      "metadata": {
        "id": "b86bf00f"
      },
      "outputs": [],
      "source": []
    },
    {
      "cell_type": "markdown",
      "id": "cb421822",
      "metadata": {
        "id": "cb421822"
      },
      "source": [
        "---"
      ]
    },
    {
      "cell_type": "markdown",
      "id": "6e3537ff",
      "metadata": {
        "id": "6e3537ff"
      },
      "source": [
        "## 🟨 Define Function (1.2.1.3)"
      ]
    },
    {
      "cell_type": "code",
      "execution_count": null,
      "id": "cde6212a",
      "metadata": {
        "id": "cde6212a"
      },
      "outputs": [],
      "source": []
    },
    {
      "cell_type": "markdown",
      "id": "7d7fbaf5",
      "metadata": {
        "id": "7d7fbaf5"
      },
      "source": [
        "---"
      ]
    },
    {
      "cell_type": "markdown",
      "id": "3b23bdf3",
      "metadata": {
        "id": "3b23bdf3"
      },
      "source": [
        "## 🟨 Define Class (1.2.1.4)"
      ]
    },
    {
      "cell_type": "code",
      "execution_count": null,
      "id": "8258d78c",
      "metadata": {
        "id": "8258d78c"
      },
      "outputs": [],
      "source": []
    },
    {
      "cell_type": "markdown",
      "id": "a7b1c8db",
      "metadata": {
        "id": "a7b1c8db"
      },
      "source": [
        "---"
      ]
    },
    {
      "cell_type": "markdown",
      "id": "4e4c0d49",
      "metadata": {
        "id": "4e4c0d49"
      },
      "source": [
        "## 🟥 Call Method (1.2.1.5)"
      ]
    },
    {
      "cell_type": "code",
      "execution_count": null,
      "id": "5f123b9b",
      "metadata": {
        "id": "5f123b9b"
      },
      "outputs": [],
      "source": []
    },
    {
      "cell_type": "markdown",
      "id": "84d3740e",
      "metadata": {
        "id": "84d3740e"
      },
      "source": [
        "---"
      ]
    },
    {
      "cell_type": "markdown",
      "id": "7b8b125d",
      "metadata": {
        "id": "7b8b125d"
      },
      "source": [
        "## 🟥 Example of Attribute (1.2.1.6)"
      ]
    },
    {
      "cell_type": "code",
      "execution_count": null,
      "id": "d0c76efd",
      "metadata": {
        "id": "d0c76efd"
      },
      "outputs": [],
      "source": []
    },
    {
      "cell_type": "markdown",
      "id": "b54deeb8",
      "metadata": {
        "id": "b54deeb8"
      },
      "source": [
        "---"
      ]
    }
  ],
  "metadata": {
    "colab": {
      "provenance": [],
      "include_colab_link": true
    },
    "language_info": {
      "name": "python"
    },
    "kernelspec": {
      "name": "python3",
      "display_name": "Python 3"
    }
  },
  "nbformat": 4,
  "nbformat_minor": 5
}