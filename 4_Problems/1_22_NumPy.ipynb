{
  "cells": [
    {
      "cell_type": "markdown",
      "id": "9135219d",
      "metadata": {
        "id": "9135219d"
      },
      "source": [
        "<a target=\"_blank\" href=\"https://colab.research.google.com/github/lukebarousse/Python_Data_Analytics_Course/blob/main/4_Problems/1_22_NumPy.ipynb\">\n",
        "  <img src=\"https://colab.research.google.com/assets/colab-badge.svg\" alt=\"Open In Colab\"/>\n",
        "</a>"
      ]
    },
    {
      "cell_type": "markdown",
      "id": "bc778d7f",
      "metadata": {
        "id": "bc778d7f"
      },
      "source": [
        "## 🟩 Create NumPy Array (1.22.1)"
      ]
    },
    {
      "cell_type": "code",
      "execution_count": 6,
      "id": "3b7e6275",
      "metadata": {
        "id": "3b7e6275",
        "outputId": "676fe87b-3e37-419a-8376-218c1f49d554",
        "colab": {
          "base_uri": "https://localhost:8080/"
        }
      },
      "outputs": [
        {
          "output_type": "stream",
          "name": "stdout",
          "text": [
            "[10 15  7 20 25 30  5]\n"
          ]
        }
      ],
      "source": [
        "import numpy as np\n",
        "# Code Needed\n",
        "applications_list = [10, 15, 7, 20, 25, 30, 5]\n",
        "application_list_array = np.array(applications_list)\n",
        "print(application_list_array)"
      ]
    },
    {
      "cell_type": "markdown",
      "id": "e3e3b88b",
      "metadata": {
        "id": "e3e3b88b"
      },
      "source": [
        "---"
      ]
    },
    {
      "cell_type": "markdown",
      "id": "4b3869b5",
      "metadata": {
        "id": "4b3869b5"
      },
      "source": [
        "## 🟩 Slicing Array (1.22.2)"
      ]
    },
    {
      "cell_type": "code",
      "execution_count": 7,
      "id": "a3f8f040",
      "metadata": {
        "id": "a3f8f040",
        "outputId": "9dc1639b-22c7-4c39-e1f0-887dbcd9120a",
        "colab": {
          "base_uri": "https://localhost:8080/"
        }
      },
      "outputs": [
        {
          "output_type": "stream",
          "name": "stdout",
          "text": [
            "[10, 15, 7]\n"
          ]
        }
      ],
      "source": [
        "import numpy as np\n",
        "# Code Needed\n",
        "postings_list = [10, 15, 7, 20, 25, 30, 5]\n",
        "slicing = postings_list[:3]\n",
        "print(slicing)"
      ]
    },
    {
      "cell_type": "markdown",
      "id": "45a7a58a",
      "metadata": {
        "id": "45a7a58a"
      },
      "source": [
        "---"
      ]
    },
    {
      "cell_type": "markdown",
      "id": "7b1ebbe9",
      "metadata": {
        "id": "7b1ebbe9"
      },
      "source": [
        "## 🟨 Highest and Lowest Salary (1.22.3)"
      ]
    },
    {
      "cell_type": "code",
      "execution_count": 10,
      "id": "b62f9aed",
      "metadata": {
        "id": "b62f9aed",
        "outputId": "237e724f-8e1d-4518-accc-0acb43d9ca9b",
        "colab": {
          "base_uri": "https://localhost:8080/"
        }
      },
      "outputs": [
        {
          "output_type": "stream",
          "name": "stdout",
          "text": [
            "95000\n",
            "60000\n"
          ]
        }
      ],
      "source": [
        "import numpy as np\n",
        "# Code Needed\n",
        "salaries_list = [70000, 85000, 60000, 95000, 80000]\n",
        "salaries = np.array(salaries_list)\n",
        "max_salary = np.max(salaries)\n",
        "min_salary = np.min(salaries)\n",
        "print(max_salary)\n",
        "print(min_salary)"
      ]
    },
    {
      "cell_type": "markdown",
      "id": "65bf8796",
      "metadata": {
        "id": "65bf8796"
      },
      "source": [
        "---"
      ]
    }
  ],
  "metadata": {
    "language_info": {
      "name": "python"
    },
    "colab": {
      "provenance": []
    },
    "kernelspec": {
      "name": "python3",
      "display_name": "Python 3"
    }
  },
  "nbformat": 4,
  "nbformat_minor": 5
}