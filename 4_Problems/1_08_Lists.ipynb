{
  "cells": [
    {
      "cell_type": "markdown",
      "id": "1324a683",
      "metadata": {
        "id": "1324a683"
      },
      "source": [
        "<a target=\"_blank\" href=\"https://colab.research.google.com/github/lukebarousse/Python_Data_Analytics_Course/blob/main/4_Problems/1_08_Lists.ipynb\">\n",
        "  <img src=\"https://colab.research.google.com/assets/colab-badge.svg\" alt=\"Open In Colab\"/>\n",
        "</a>"
      ]
    },
    {
      "cell_type": "markdown",
      "id": "1838d998",
      "metadata": {
        "id": "1838d998"
      },
      "source": [
        "## 🟩 Access Second Job Title (1.8.1)"
      ]
    },
    {
      "cell_type": "code",
      "execution_count": 2,
      "id": "1985369d",
      "metadata": {
        "id": "1985369d",
        "outputId": "5b2cb8c7-3526-444e-a074-4bb59f9da48f",
        "colab": {
          "base_uri": "https://localhost:8080/"
        }
      },
      "outputs": [
        {
          "output_type": "stream",
          "name": "stdout",
          "text": [
            "Data Analyst\n"
          ]
        }
      ],
      "source": [
        "# Code Needed\n",
        "job_titles = ['Data Scientist', 'Data Analyst', 'Machine Learning Engineer']\n",
        "print(job_titles[1])"
      ]
    },
    {
      "cell_type": "markdown",
      "id": "51c4691d",
      "metadata": {
        "id": "51c4691d"
      },
      "source": [
        "---"
      ]
    },
    {
      "cell_type": "markdown",
      "id": "845d3703",
      "metadata": {
        "id": "845d3703"
      },
      "source": [
        "## 🟩 Change Third Job Title (1.8.2)"
      ]
    },
    {
      "cell_type": "code",
      "execution_count": 4,
      "id": "ec22c646",
      "metadata": {
        "id": "ec22c646",
        "outputId": "e6daffbe-971f-4eae-b3ba-98b6f4d0357d",
        "colab": {
          "base_uri": "https://localhost:8080/"
        }
      },
      "outputs": [
        {
          "output_type": "stream",
          "name": "stdout",
          "text": [
            "['Data Scientist', 'Data Analyst', 'AI Specialist']\n"
          ]
        }
      ],
      "source": [
        "# Code Needed\n",
        "job_titles = ['Data Scientist', 'Data Analyst', 'Machine Learning Engineer']\n",
        "job_titles[2] = \"AI Specialist\"\n",
        "print(job_titles)"
      ]
    },
    {
      "cell_type": "markdown",
      "id": "f0432a95",
      "metadata": {
        "id": "f0432a95"
      },
      "source": [
        "---"
      ]
    },
    {
      "cell_type": "markdown",
      "id": "03761a20",
      "metadata": {
        "id": "03761a20"
      },
      "source": [
        "## 🟩 Slice Job Titles List (1.8.3)"
      ]
    },
    {
      "cell_type": "code",
      "execution_count": 5,
      "id": "6e2440ca",
      "metadata": {
        "id": "6e2440ca",
        "outputId": "4d94da89-d35a-437a-a691-80bae9ae988d",
        "colab": {
          "base_uri": "https://localhost:8080/"
        }
      },
      "outputs": [
        {
          "output_type": "stream",
          "name": "stdout",
          "text": [
            "['Data Scientist', 'Data Analyst']\n"
          ]
        }
      ],
      "source": [
        "# Code Needed\n",
        "job_titles = ['Data Scientist', 'Data Analyst', 'Machine Learning Engineer', 'Data Engineer']\n",
        "print(job_titles[0:2]) # = first_two_job = job_titles[:2]"
      ]
    },
    {
      "cell_type": "markdown",
      "id": "574cb0d1",
      "metadata": {
        "id": "574cb0d1"
      },
      "source": [
        "---"
      ]
    },
    {
      "cell_type": "markdown",
      "id": "251109f7",
      "metadata": {
        "id": "251109f7"
      },
      "source": [
        "## 🟨 Append Job Title (1.8.4)"
      ]
    },
    {
      "cell_type": "code",
      "execution_count": 6,
      "id": "fa121574",
      "metadata": {
        "id": "fa121574",
        "outputId": "ec620587-e8fe-4283-9342-6d62d1e71855",
        "colab": {
          "base_uri": "https://localhost:8080/"
        }
      },
      "outputs": [
        {
          "output_type": "stream",
          "name": "stdout",
          "text": [
            "['Data Scientist', 'Data Analyst', 'Machine Learning Engineer', 'Data Engineer']\n"
          ]
        }
      ],
      "source": [
        "# Code Needed\n",
        "job_titles = ['Data Scientist', 'Data Analyst', 'Machine Learning Engineer']\n",
        "job_titles.append(\"Data Engineer\")\n",
        "print(job_titles)"
      ]
    },
    {
      "cell_type": "markdown",
      "id": "af25c586",
      "metadata": {
        "id": "af25c586"
      },
      "source": [
        "---"
      ]
    },
    {
      "cell_type": "markdown",
      "id": "e5b2814d",
      "metadata": {
        "id": "e5b2814d"
      },
      "source": [
        "## 🟨 Insert Job Title (1.8.5)"
      ]
    },
    {
      "cell_type": "code",
      "execution_count": 7,
      "id": "82ac8332",
      "metadata": {
        "id": "82ac8332",
        "outputId": "a49da5a9-4acf-40ba-d930-f06f0d1875d7",
        "colab": {
          "base_uri": "https://localhost:8080/"
        }
      },
      "outputs": [
        {
          "output_type": "stream",
          "name": "stdout",
          "text": [
            "['Data Scientist', 'Business Analyst', 'Data Analyst', 'Machine Learning Engineer']\n"
          ]
        }
      ],
      "source": [
        "# Code Needed\n",
        "job_titles = ['Data Scientist', 'Data Analyst', 'Machine Learning Engineer']\n",
        "# The insert() method in Python is used to add an element at a specific position in a list. -> list.insert(index, element)\n",
        "job_titles.insert(1, \"Business Analyst\")\n",
        "print(job_titles)"
      ]
    },
    {
      "cell_type": "markdown",
      "id": "5c04345c",
      "metadata": {
        "id": "5c04345c"
      },
      "source": [
        "---"
      ]
    }
  ],
  "metadata": {
    "colab": {
      "provenance": []
    },
    "language_info": {
      "name": "python"
    },
    "kernelspec": {
      "name": "python3",
      "display_name": "Python 3"
    }
  },
  "nbformat": 4,
  "nbformat_minor": 5
}