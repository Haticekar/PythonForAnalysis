{
  "cells": [
    {
      "cell_type": "markdown",
      "id": "e3327670",
      "metadata": {
        "id": "e3327670"
      },
      "source": [
        "<a target=\"_blank\" href=\"https://colab.research.google.com/github/lukebarousse/Python_Data_Analytics_Course/blob/main/4_Problems/1_07_Conditional Statements.ipynb\">\n",
        "  <img src=\"https://colab.research.google.com/assets/colab-badge.svg\" alt=\"Open In Colab\"/>\n",
        "</a>"
      ]
    },
    {
      "cell_type": "markdown",
      "id": "2aaa1761",
      "metadata": {
        "id": "2aaa1761"
      },
      "source": [
        "## 🟩 Determine Python Experience (1.7.1)"
      ]
    },
    {
      "cell_type": "code",
      "execution_count": 4,
      "id": "9eaa2dc1",
      "metadata": {
        "colab": {
          "base_uri": "https://localhost:8080/"
        },
        "id": "9eaa2dc1",
        "outputId": "59b5ef32-fc29-4f02-e1d9-f822167b8b9f"
      },
      "outputs": [
        {
          "output_type": "stream",
          "name": "stdout",
          "text": [
            "Intermediate\n",
            "Intermediate\n"
          ]
        }
      ],
      "source": [
        "# Code Needed\n",
        "python_experience = 3\n",
        "\n",
        "if(python_experience<2):\n",
        "  print(\"Beginner\")\n",
        "\n",
        "elif(python_experience>=2):\n",
        "  print(\"Intermediate\")\n",
        "\n",
        "#different way :\n",
        "if python_experience < 2:\n",
        "    skill_level = 'Beginner'\n",
        "else:\n",
        "    skill_level = 'Intermediate'\n",
        "print(skill_level)"
      ]
    },
    {
      "cell_type": "markdown",
      "id": "e5985de7",
      "metadata": {
        "id": "e5985de7"
      },
      "source": [
        "---"
      ]
    },
    {
      "cell_type": "markdown",
      "id": "1d103802",
      "metadata": {
        "id": "1d103802"
      },
      "source": [
        "## 🟨 Determine Job Skill Level (1.7.2)"
      ]
    },
    {
      "cell_type": "code",
      "execution_count": 6,
      "id": "bb543cdd",
      "metadata": {
        "colab": {
          "base_uri": "https://localhost:8080/"
        },
        "id": "bb543cdd",
        "outputId": "c65d9c8d-9401-4c1b-ed7d-4670ff4575ec"
      },
      "outputs": [
        {
          "output_type": "stream",
          "name": "stdout",
          "text": [
            "Intermediate\n"
          ]
        }
      ],
      "source": [
        "# Code Needed\n",
        "tools_known = 3\n",
        "\n",
        "if(tools_known<=1):\n",
        "  skill_level = \"Beginner\"\n",
        "\n",
        "elif(tools_known<=4):\n",
        "  skill_level = \"Intermediate\"\n",
        "\n",
        "else:\n",
        "  skill_level = \"Advanced\"\n",
        "\n",
        "print(skill_level)"
      ]
    },
    {
      "cell_type": "markdown",
      "id": "fdf0324b",
      "metadata": {
        "id": "fdf0324b"
      },
      "source": [
        "---"
      ]
    },
    {
      "cell_type": "markdown",
      "id": "847f3e27",
      "metadata": {
        "id": "847f3e27"
      },
      "source": [
        "## 🟥 Determine Job Title (1.7.3)"
      ]
    },
    {
      "cell_type": "code",
      "execution_count": 12,
      "id": "f73925e8",
      "metadata": {
        "colab": {
          "base_uri": "https://localhost:8080/"
        },
        "id": "f73925e8",
        "outputId": "bf11b19c-65d2-4da3-c85d-ab9c4abdcb4c"
      },
      "outputs": [
        {
          "output_type": "stream",
          "name": "stdout",
          "text": [
            "Senior Analyst\n"
          ]
        }
      ],
      "source": [
        "# Code Needed\n",
        "job_experience = 4\n",
        "sql_experience = 2\n",
        "\n",
        "if(job_experience<2):\n",
        "  if(sql_experience == 0):\n",
        "    print(\"Associate Analyst\")\n",
        "  else:\n",
        "    print(\"Junior Analyst\")\n",
        "\n",
        "elif(2<=sql_experience<5):\n",
        "  if(sql_experience == 0):\n",
        "    print(\"Associate Analyst\")\n",
        "  elif(sql_experience==1):\n",
        "    print(\"Junior Analyst\")\n",
        "  elif(sql_experience>=2):\n",
        "    print(\"Senior Analyst\")\n",
        "\n",
        "else:\n",
        "  if(0<sql_experience<=2):\n",
        "    print(\"Data Analyst\")\n",
        "  else:\n",
        "    print(\"Lead Analyst\")\n",
        "\n",
        "\n",
        "#Below the differenet way :\n",
        "if job_experience < 2:\n",
        "    if sql_experience == 0:\n",
        "        job_title = \"Associate Analyst\"\n",
        "    else:\n",
        "        job_title = \"Junior Analyst\"\n",
        "\n",
        "elif job_experience > 5:\n",
        "    if sql_experience >= 3:\n",
        "        job_title = \"Lead Analyst\"\n",
        "    else:\n",
        "        job_title = \"Data Analyst\"\n",
        "\n",
        "else: # 2 to 5 years of experience\n",
        "    if sql_experience == 0:\n",
        "        job_title = \"Associate Analyst\"\n",
        "    elif sql_experience == 1:\n",
        "        job_title = \"Intermediate Analyst\"\n",
        "    else:\n",
        "        job_title = \"Senior Analyst\"\n"
      ]
    },
    {
      "cell_type": "markdown",
      "id": "5a5189c6",
      "metadata": {
        "id": "5a5189c6"
      },
      "source": [
        "---"
      ]
    }
  ],
  "metadata": {
    "colab": {
      "provenance": []
    },
    "language_info": {
      "name": "python"
    },
    "kernelspec": {
      "name": "python3",
      "display_name": "Python 3"
    }
  },
  "nbformat": 4,
  "nbformat_minor": 5
}